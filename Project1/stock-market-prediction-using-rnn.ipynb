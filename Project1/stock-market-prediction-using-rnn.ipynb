{
  "nbformat": 4,
  "nbformat_minor": 0,
  "metadata": {
    "kernelspec": {
      "display_name": "Python 3",
      "language": "python",
      "name": "python3"
    },
    "language_info": {
      "codemirror_mode": {
        "name": "ipython",
        "version": 3
      },
      "file_extension": ".py",
      "mimetype": "text/x-python",
      "name": "python",
      "nbconvert_exporter": "python",
      "pygments_lexer": "ipython3",
      "version": "3.6.6"
    },
    "colab": {
      "name": "stock-market-prediction-using-rnn.ipynb",
      "provenance": [],
      "toc_visible": true,
      "include_colab_link": true
    }
  },
  "cells": [
    {
      "cell_type": "markdown",
      "metadata": {
        "id": "view-in-github",
        "colab_type": "text"
      },
      "source": [
        "<a href=\"https://colab.research.google.com/github/thevirusx3/RNN-Projects/blob/master/Project1/stock-market-prediction-using-rnn.ipynb\" target=\"_parent\"><img src=\"https://colab.research.google.com/assets/colab-badge.svg\" alt=\"Open In Colab\"/></a>"
      ]
    },
    {
      "cell_type": "code",
      "metadata": {
        "id": "SIZNwof0cGA-",
        "colab_type": "code",
        "colab": {}
      },
      "source": [
        "#Import Dependencies\n",
        "\n",
        "import os \n",
        "import numpy as np\n",
        "import matplotlib.pyplot as plt\n",
        "import pandas as pd\n",
        "from sklearn.preprocessing import MinMaxScaler"
      ],
      "execution_count": 0,
      "outputs": []
    },
    {
      "cell_type": "code",
      "metadata": {
        "id": "KGJEwq1hcGBI",
        "colab_type": "code",
        "colab": {},
        "outputId": "6efac411-7b87-4ab0-b394-1b2aedb31d22"
      },
      "source": [
        "# Get Data\n",
        "data = pd.read_csv('../input/google-stock-market-data/GOOG.csv', date_parser = True)\n",
        "data.head(10)"
      ],
      "execution_count": 0,
      "outputs": [
        {
          "output_type": "execute_result",
          "data": {
            "text/html": [
              "<div>\n",
              "<style scoped>\n",
              "    .dataframe tbody tr th:only-of-type {\n",
              "        vertical-align: middle;\n",
              "    }\n",
              "\n",
              "    .dataframe tbody tr th {\n",
              "        vertical-align: top;\n",
              "    }\n",
              "\n",
              "    .dataframe thead th {\n",
              "        text-align: right;\n",
              "    }\n",
              "</style>\n",
              "<table border=\"1\" class=\"dataframe\">\n",
              "  <thead>\n",
              "    <tr style=\"text-align: right;\">\n",
              "      <th></th>\n",
              "      <th>Date</th>\n",
              "      <th>Open</th>\n",
              "      <th>High</th>\n",
              "      <th>Low</th>\n",
              "      <th>Close</th>\n",
              "      <th>Adj Close</th>\n",
              "      <th>Volume</th>\n",
              "    </tr>\n",
              "  </thead>\n",
              "  <tbody>\n",
              "    <tr>\n",
              "      <th>0</th>\n",
              "      <td>2004-08-19</td>\n",
              "      <td>49.813286</td>\n",
              "      <td>51.835709</td>\n",
              "      <td>47.800831</td>\n",
              "      <td>49.982655</td>\n",
              "      <td>49.982655</td>\n",
              "      <td>44871300</td>\n",
              "    </tr>\n",
              "    <tr>\n",
              "      <th>1</th>\n",
              "      <td>2004-08-20</td>\n",
              "      <td>50.316402</td>\n",
              "      <td>54.336334</td>\n",
              "      <td>50.062355</td>\n",
              "      <td>53.952770</td>\n",
              "      <td>53.952770</td>\n",
              "      <td>22942800</td>\n",
              "    </tr>\n",
              "    <tr>\n",
              "      <th>2</th>\n",
              "      <td>2004-08-23</td>\n",
              "      <td>55.168217</td>\n",
              "      <td>56.528118</td>\n",
              "      <td>54.321388</td>\n",
              "      <td>54.495735</td>\n",
              "      <td>54.495735</td>\n",
              "      <td>18342800</td>\n",
              "    </tr>\n",
              "    <tr>\n",
              "      <th>3</th>\n",
              "      <td>2004-08-24</td>\n",
              "      <td>55.412300</td>\n",
              "      <td>55.591629</td>\n",
              "      <td>51.591621</td>\n",
              "      <td>52.239193</td>\n",
              "      <td>52.239193</td>\n",
              "      <td>15319700</td>\n",
              "    </tr>\n",
              "    <tr>\n",
              "      <th>4</th>\n",
              "      <td>2004-08-25</td>\n",
              "      <td>52.284027</td>\n",
              "      <td>53.798351</td>\n",
              "      <td>51.746044</td>\n",
              "      <td>52.802086</td>\n",
              "      <td>52.802086</td>\n",
              "      <td>9232100</td>\n",
              "    </tr>\n",
              "    <tr>\n",
              "      <th>5</th>\n",
              "      <td>2004-08-26</td>\n",
              "      <td>52.279045</td>\n",
              "      <td>53.773445</td>\n",
              "      <td>52.134586</td>\n",
              "      <td>53.753517</td>\n",
              "      <td>53.753517</td>\n",
              "      <td>7128600</td>\n",
              "    </tr>\n",
              "    <tr>\n",
              "      <th>6</th>\n",
              "      <td>2004-08-27</td>\n",
              "      <td>53.848164</td>\n",
              "      <td>54.107193</td>\n",
              "      <td>52.647663</td>\n",
              "      <td>52.876804</td>\n",
              "      <td>52.876804</td>\n",
              "      <td>6241200</td>\n",
              "    </tr>\n",
              "    <tr>\n",
              "      <th>7</th>\n",
              "      <td>2004-08-30</td>\n",
              "      <td>52.443428</td>\n",
              "      <td>52.548038</td>\n",
              "      <td>50.814533</td>\n",
              "      <td>50.814533</td>\n",
              "      <td>50.814533</td>\n",
              "      <td>5221400</td>\n",
              "    </tr>\n",
              "    <tr>\n",
              "      <th>8</th>\n",
              "      <td>2004-08-31</td>\n",
              "      <td>50.958992</td>\n",
              "      <td>51.661362</td>\n",
              "      <td>50.889256</td>\n",
              "      <td>50.993862</td>\n",
              "      <td>50.993862</td>\n",
              "      <td>4941200</td>\n",
              "    </tr>\n",
              "    <tr>\n",
              "      <th>9</th>\n",
              "      <td>2004-09-01</td>\n",
              "      <td>51.158245</td>\n",
              "      <td>51.292744</td>\n",
              "      <td>49.648903</td>\n",
              "      <td>49.937820</td>\n",
              "      <td>49.937820</td>\n",
              "      <td>9181600</td>\n",
              "    </tr>\n",
              "  </tbody>\n",
              "</table>\n",
              "</div>"
            ],
            "text/plain": [
              "         Date       Open       High        Low      Close  Adj Close    Volume\n",
              "0  2004-08-19  49.813286  51.835709  47.800831  49.982655  49.982655  44871300\n",
              "1  2004-08-20  50.316402  54.336334  50.062355  53.952770  53.952770  22942800\n",
              "2  2004-08-23  55.168217  56.528118  54.321388  54.495735  54.495735  18342800\n",
              "3  2004-08-24  55.412300  55.591629  51.591621  52.239193  52.239193  15319700\n",
              "4  2004-08-25  52.284027  53.798351  51.746044  52.802086  52.802086   9232100\n",
              "5  2004-08-26  52.279045  53.773445  52.134586  53.753517  53.753517   7128600\n",
              "6  2004-08-27  53.848164  54.107193  52.647663  52.876804  52.876804   6241200\n",
              "7  2004-08-30  52.443428  52.548038  50.814533  50.814533  50.814533   5221400\n",
              "8  2004-08-31  50.958992  51.661362  50.889256  50.993862  50.993862   4941200\n",
              "9  2004-09-01  51.158245  51.292744  49.648903  49.937820  49.937820   9181600"
            ]
          },
          "metadata": {
            "tags": []
          },
          "execution_count": 2
        }
      ]
    },
    {
      "cell_type": "code",
      "metadata": {
        "id": "ig44gJThcGBR",
        "colab_type": "code",
        "colab": {}
      },
      "source": [
        "data_training = data[data['Date']<'2019-01-01'].copy()\n",
        "data_test = data[data['Date']>='2019-01-01'].copy()"
      ],
      "execution_count": 0,
      "outputs": []
    },
    {
      "cell_type": "code",
      "metadata": {
        "id": "05Nh53CEcGBY",
        "colab_type": "code",
        "colab": {}
      },
      "source": [
        "data_training = data_training.drop(['Date', 'Adj Close'], axis = 1)"
      ],
      "execution_count": 0,
      "outputs": []
    },
    {
      "cell_type": "code",
      "metadata": {
        "id": "PdDewBB3cGBf",
        "colab_type": "code",
        "colab": {},
        "outputId": "eb97c27c-ee44-4498-98e1-5898cabbab07"
      },
      "source": [
        "scaler = MinMaxScaler()\n",
        "data_training = scaler.fit_transform(data_training)\n",
        "data_training[0:5]"
      ],
      "execution_count": 0,
      "outputs": [
        {
          "output_type": "execute_result",
          "data": {
            "text/plain": [
              "array([[3.30294890e-04, 9.44785459e-04, 0.00000000e+00, 1.34908021e-04,\n",
              "        5.43577404e-01],\n",
              "       [7.42148227e-04, 2.98909923e-03, 1.88269054e-03, 3.39307537e-03,\n",
              "        2.77885613e-01],\n",
              "       [4.71386886e-03, 4.78092896e-03, 5.42828241e-03, 3.83867225e-03,\n",
              "        2.22150736e-01],\n",
              "       [4.91367646e-03, 4.01532941e-03, 3.15578542e-03, 1.98678849e-03,\n",
              "        1.85522018e-01],\n",
              "       [2.35285614e-03, 2.54928676e-03, 3.28434064e-03, 2.44873974e-03,\n",
              "        1.11762967e-01]])"
            ]
          },
          "metadata": {
            "tags": []
          },
          "execution_count": 5
        }
      ]
    },
    {
      "cell_type": "code",
      "metadata": {
        "id": "AAmbB4spcGBn",
        "colab_type": "code",
        "colab": {}
      },
      "source": [
        "X_train = []\n",
        "y_train = []"
      ],
      "execution_count": 0,
      "outputs": []
    },
    {
      "cell_type": "code",
      "metadata": {
        "id": "yYYVD-ohcGBv",
        "colab_type": "code",
        "colab": {}
      },
      "source": [
        "for i in range(60, data_training.shape[0]):\n",
        "    X_train.append(data_training[i-60:i])\n",
        "    y_train.append(data_training[i, 0])"
      ],
      "execution_count": 0,
      "outputs": []
    },
    {
      "cell_type": "code",
      "metadata": {
        "id": "Yz8GL7pucGB2",
        "colab_type": "code",
        "colab": {}
      },
      "source": [
        "X_train, y_train = np.array(X_train), np.array(y_train)"
      ],
      "execution_count": 0,
      "outputs": []
    },
    {
      "cell_type": "code",
      "metadata": {
        "id": "p_qfdSgMcGB9",
        "colab_type": "code",
        "colab": {},
        "outputId": "00386092-e753-4b8c-cdd2-cdd0c82a75dc"
      },
      "source": [
        "print(X_train.shape)\n",
        "print(y_train.shape)"
      ],
      "execution_count": 0,
      "outputs": [
        {
          "output_type": "stream",
          "text": [
            "(3557, 60, 5)\n",
            "(3557,)\n"
          ],
          "name": "stdout"
        }
      ]
    },
    {
      "cell_type": "markdown",
      "metadata": {
        "id": "IyHUhxj_cGCE",
        "colab_type": "text"
      },
      "source": [
        "**Building the Neural Network**"
      ]
    },
    {
      "cell_type": "code",
      "metadata": {
        "id": "8UhAoDtncGCG",
        "colab_type": "code",
        "colab": {}
      },
      "source": [
        "from tensorflow.keras import Sequential\n",
        "from tensorflow.keras.layers import Dense, LSTM, Dropout"
      ],
      "execution_count": 0,
      "outputs": []
    },
    {
      "cell_type": "code",
      "metadata": {
        "id": "t65g3EFacGCN",
        "colab_type": "code",
        "colab": {}
      },
      "source": [
        "model = Sequential()\n",
        "\n",
        "model.add(LSTM(units = 60, activation = 'relu', return_sequences = True, input_shape = (X_train.shape[1], 5)))\n",
        "model.add(Dropout(0.2))\n",
        "\n",
        "model.add(LSTM(units = 60, activation = 'relu', return_sequences = True))\n",
        "model.add(Dropout(0.2))\n",
        "\n",
        "model.add(LSTM(units = 80, activation = 'relu', return_sequences = True))\n",
        "model.add(Dropout(0.2))\n",
        "\n",
        "model.add(LSTM(units = 120, activation = 'relu'))\n",
        "model.add(Dropout(0.2))\n",
        "\n",
        "model.add(Dense(units = 1))"
      ],
      "execution_count": 0,
      "outputs": []
    },
    {
      "cell_type": "code",
      "metadata": {
        "id": "LuzPOsmmcGCT",
        "colab_type": "code",
        "colab": {}
      },
      "source": [
        "model.compile(optimizer='adam', loss = 'mean_squared_error')"
      ],
      "execution_count": 0,
      "outputs": []
    },
    {
      "cell_type": "code",
      "metadata": {
        "id": "J2NfXl1tcGCa",
        "colab_type": "code",
        "colab": {},
        "outputId": "03843d5e-e213-4443-8b52-474bca12d20d"
      },
      "source": [
        "model.fit(X_train, y_train, epochs=5, batch_size=32)"
      ],
      "execution_count": 0,
      "outputs": [
        {
          "output_type": "stream",
          "text": [
            "Train on 3557 samples\n",
            "Epoch 1/5\n",
            "3557/3557 [==============================] - 28s 8ms/sample - loss: 0.0111\n",
            "Epoch 2/5\n",
            "3557/3557 [==============================] - 24s 7ms/sample - loss: 0.0017\n",
            "Epoch 3/5\n",
            "3557/3557 [==============================] - 24s 7ms/sample - loss: 0.0017\n",
            "Epoch 4/5\n",
            "3557/3557 [==============================] - 23s 7ms/sample - loss: 0.0016\n",
            "Epoch 5/5\n",
            "3557/3557 [==============================] - 24s 7ms/sample - loss: 0.0014\n"
          ],
          "name": "stdout"
        },
        {
          "output_type": "execute_result",
          "data": {
            "text/plain": [
              "<tensorflow.python.keras.callbacks.History at 0x7f41f4126048>"
            ]
          },
          "metadata": {
            "tags": []
          },
          "execution_count": 13
        }
      ]
    },
    {
      "cell_type": "code",
      "metadata": {
        "id": "HtG4K7F1cGCi",
        "colab_type": "code",
        "colab": {},
        "outputId": "ced583da-70dd-4384-ae33-c4fdc184f61a"
      },
      "source": [
        "data_test.head()"
      ],
      "execution_count": 0,
      "outputs": [
        {
          "output_type": "execute_result",
          "data": {
            "text/html": [
              "<div>\n",
              "<style scoped>\n",
              "    .dataframe tbody tr th:only-of-type {\n",
              "        vertical-align: middle;\n",
              "    }\n",
              "\n",
              "    .dataframe tbody tr th {\n",
              "        vertical-align: top;\n",
              "    }\n",
              "\n",
              "    .dataframe thead th {\n",
              "        text-align: right;\n",
              "    }\n",
              "</style>\n",
              "<table border=\"1\" class=\"dataframe\">\n",
              "  <thead>\n",
              "    <tr style=\"text-align: right;\">\n",
              "      <th></th>\n",
              "      <th>Date</th>\n",
              "      <th>Open</th>\n",
              "      <th>High</th>\n",
              "      <th>Low</th>\n",
              "      <th>Close</th>\n",
              "      <th>Adj Close</th>\n",
              "      <th>Volume</th>\n",
              "    </tr>\n",
              "  </thead>\n",
              "  <tbody>\n",
              "    <tr>\n",
              "      <th>3617</th>\n",
              "      <td>2019-01-02</td>\n",
              "      <td>1016.570007</td>\n",
              "      <td>1052.319946</td>\n",
              "      <td>1015.710022</td>\n",
              "      <td>1045.849976</td>\n",
              "      <td>1045.849976</td>\n",
              "      <td>1532600</td>\n",
              "    </tr>\n",
              "    <tr>\n",
              "      <th>3618</th>\n",
              "      <td>2019-01-03</td>\n",
              "      <td>1041.000000</td>\n",
              "      <td>1056.979980</td>\n",
              "      <td>1014.070007</td>\n",
              "      <td>1016.059998</td>\n",
              "      <td>1016.059998</td>\n",
              "      <td>1841100</td>\n",
              "    </tr>\n",
              "    <tr>\n",
              "      <th>3619</th>\n",
              "      <td>2019-01-04</td>\n",
              "      <td>1032.589966</td>\n",
              "      <td>1070.839966</td>\n",
              "      <td>1027.417969</td>\n",
              "      <td>1070.709961</td>\n",
              "      <td>1070.709961</td>\n",
              "      <td>2093900</td>\n",
              "    </tr>\n",
              "    <tr>\n",
              "      <th>3620</th>\n",
              "      <td>2019-01-07</td>\n",
              "      <td>1071.500000</td>\n",
              "      <td>1074.000000</td>\n",
              "      <td>1054.760010</td>\n",
              "      <td>1068.390015</td>\n",
              "      <td>1068.390015</td>\n",
              "      <td>1981900</td>\n",
              "    </tr>\n",
              "    <tr>\n",
              "      <th>3621</th>\n",
              "      <td>2019-01-08</td>\n",
              "      <td>1076.109985</td>\n",
              "      <td>1084.560059</td>\n",
              "      <td>1060.530029</td>\n",
              "      <td>1076.280029</td>\n",
              "      <td>1076.280029</td>\n",
              "      <td>1764900</td>\n",
              "    </tr>\n",
              "  </tbody>\n",
              "</table>\n",
              "</div>"
            ],
            "text/plain": [
              "            Date         Open         High          Low        Close  \\\n",
              "3617  2019-01-02  1016.570007  1052.319946  1015.710022  1045.849976   \n",
              "3618  2019-01-03  1041.000000  1056.979980  1014.070007  1016.059998   \n",
              "3619  2019-01-04  1032.589966  1070.839966  1027.417969  1070.709961   \n",
              "3620  2019-01-07  1071.500000  1074.000000  1054.760010  1068.390015   \n",
              "3621  2019-01-08  1076.109985  1084.560059  1060.530029  1076.280029   \n",
              "\n",
              "        Adj Close   Volume  \n",
              "3617  1045.849976  1532600  \n",
              "3618  1016.059998  1841100  \n",
              "3619  1070.709961  2093900  \n",
              "3620  1068.390015  1981900  \n",
              "3621  1076.280029  1764900  "
            ]
          },
          "metadata": {
            "tags": []
          },
          "execution_count": 14
        }
      ]
    },
    {
      "cell_type": "code",
      "metadata": {
        "id": "XnNlM6TYcGCq",
        "colab_type": "code",
        "colab": {},
        "outputId": "ebcc0d9c-fa0c-4f00-a88c-569654687c7f"
      },
      "source": [
        "data_training = data[data['Date']<'2019-01-01'].copy()\n",
        "\n",
        "past_60_days = data_training.tail(60)\n",
        "\n",
        "df = past_60_days.append(data_test, ignore_index = True)\n",
        "df = df.drop(['Date', 'Adj Close'], axis = 1)\n",
        "df.head()"
      ],
      "execution_count": 0,
      "outputs": [
        {
          "output_type": "execute_result",
          "data": {
            "text/html": [
              "<div>\n",
              "<style scoped>\n",
              "    .dataframe tbody tr th:only-of-type {\n",
              "        vertical-align: middle;\n",
              "    }\n",
              "\n",
              "    .dataframe tbody tr th {\n",
              "        vertical-align: top;\n",
              "    }\n",
              "\n",
              "    .dataframe thead th {\n",
              "        text-align: right;\n",
              "    }\n",
              "</style>\n",
              "<table border=\"1\" class=\"dataframe\">\n",
              "  <thead>\n",
              "    <tr style=\"text-align: right;\">\n",
              "      <th></th>\n",
              "      <th>Open</th>\n",
              "      <th>High</th>\n",
              "      <th>Low</th>\n",
              "      <th>Close</th>\n",
              "      <th>Volume</th>\n",
              "    </tr>\n",
              "  </thead>\n",
              "  <tbody>\n",
              "    <tr>\n",
              "      <th>0</th>\n",
              "      <td>1195.329956</td>\n",
              "      <td>1197.510010</td>\n",
              "      <td>1155.576050</td>\n",
              "      <td>1168.189941</td>\n",
              "      <td>2209500</td>\n",
              "    </tr>\n",
              "    <tr>\n",
              "      <th>1</th>\n",
              "      <td>1167.500000</td>\n",
              "      <td>1173.500000</td>\n",
              "      <td>1145.119995</td>\n",
              "      <td>1157.349976</td>\n",
              "      <td>1184300</td>\n",
              "    </tr>\n",
              "    <tr>\n",
              "      <th>2</th>\n",
              "      <td>1150.109985</td>\n",
              "      <td>1168.000000</td>\n",
              "      <td>1127.364014</td>\n",
              "      <td>1148.969971</td>\n",
              "      <td>1932400</td>\n",
              "    </tr>\n",
              "    <tr>\n",
              "      <th>3</th>\n",
              "      <td>1146.150024</td>\n",
              "      <td>1154.349976</td>\n",
              "      <td>1137.572021</td>\n",
              "      <td>1138.819946</td>\n",
              "      <td>1308700</td>\n",
              "    </tr>\n",
              "    <tr>\n",
              "      <th>4</th>\n",
              "      <td>1131.079956</td>\n",
              "      <td>1132.170044</td>\n",
              "      <td>1081.130005</td>\n",
              "      <td>1081.219971</td>\n",
              "      <td>2675700</td>\n",
              "    </tr>\n",
              "  </tbody>\n",
              "</table>\n",
              "</div>"
            ],
            "text/plain": [
              "          Open         High          Low        Close   Volume\n",
              "0  1195.329956  1197.510010  1155.576050  1168.189941  2209500\n",
              "1  1167.500000  1173.500000  1145.119995  1157.349976  1184300\n",
              "2  1150.109985  1168.000000  1127.364014  1148.969971  1932400\n",
              "3  1146.150024  1154.349976  1137.572021  1138.819946  1308700\n",
              "4  1131.079956  1132.170044  1081.130005  1081.219971  2675700"
            ]
          },
          "metadata": {
            "tags": []
          },
          "execution_count": 15
        }
      ]
    },
    {
      "cell_type": "code",
      "metadata": {
        "id": "pGsefvJXcGC1",
        "colab_type": "code",
        "colab": {},
        "outputId": "13eb5d2c-5c7a-4b35-c9aa-a92758c7cad7"
      },
      "source": [
        "inputs = scaler.transform(df)\n",
        "inputs"
      ],
      "execution_count": 0,
      "outputs": [
        {
          "output_type": "execute_result",
          "data": {
            "text/plain": [
              "array([[0.93805611, 0.93755773, 0.92220906, 0.91781776, 0.0266752 ],\n",
              "       [0.91527437, 0.91792904, 0.91350452, 0.90892169, 0.01425359],\n",
              "       [0.90103881, 0.91343268, 0.89872289, 0.90204445, 0.02331778],\n",
              "       ...,\n",
              "       [0.93940683, 0.93712442, 0.93529076, 0.9247443 , 0.01947328],\n",
              "       [0.92550693, 0.93064972, 0.92791493, 0.9339358 , 0.01954719],\n",
              "       [0.93524016, 0.94894575, 0.95017564, 0.95130949, 0.01227612]])"
            ]
          },
          "metadata": {
            "tags": []
          },
          "execution_count": 16
        }
      ]
    },
    {
      "cell_type": "code",
      "metadata": {
        "id": "4gg1jNSicGC-",
        "colab_type": "code",
        "colab": {}
      },
      "source": [
        "\n",
        "X_test = []\n",
        "y_test = []\n",
        "\n",
        "for i in range(60, inputs.shape[0]):\n",
        "    X_test.append(inputs[i-60:i])\n",
        "    y_test.append(inputs[i, 0])"
      ],
      "execution_count": 0,
      "outputs": []
    },
    {
      "cell_type": "code",
      "metadata": {
        "id": "MnJrVHvucGDF",
        "colab_type": "code",
        "colab": {},
        "outputId": "cfe8c046-ce49-4965-9671-fb78048adc4f"
      },
      "source": [
        "\n",
        "X_test, y_test = np.array(X_test), np.array(y_test)\n",
        "X_test.shape, y_test.shape"
      ],
      "execution_count": 0,
      "outputs": [
        {
          "output_type": "execute_result",
          "data": {
            "text/plain": [
              "((192, 60, 5), (192,))"
            ]
          },
          "metadata": {
            "tags": []
          },
          "execution_count": 18
        }
      ]
    },
    {
      "cell_type": "code",
      "metadata": {
        "id": "YNvNa-UUcGDN",
        "colab_type": "code",
        "colab": {}
      },
      "source": [
        "y_pred = model.predict(X_test)"
      ],
      "execution_count": 0,
      "outputs": []
    },
    {
      "cell_type": "code",
      "metadata": {
        "id": "qKTRPZmvcGDU",
        "colab_type": "code",
        "colab": {},
        "outputId": "fea8b0b2-bce6-499b-8fdb-b754f1a46815"
      },
      "source": [
        "scaler.scale_"
      ],
      "execution_count": 0,
      "outputs": [
        {
          "output_type": "execute_result",
          "data": {
            "text/plain": [
              "array([8.18605127e-04, 8.17521128e-04, 8.32487534e-04, 8.20673293e-04,\n",
              "       1.21162775e-08])"
            ]
          },
          "metadata": {
            "tags": []
          },
          "execution_count": 20
        }
      ]
    },
    {
      "cell_type": "code",
      "metadata": {
        "id": "eSZCsytscGDc",
        "colab_type": "code",
        "colab": {},
        "outputId": "ec5463c9-5d1b-4cbc-a073-2f7a72de4d34"
      },
      "source": [
        "scale = 1/8.18605127e-04\n",
        "scale"
      ],
      "execution_count": 0,
      "outputs": [
        {
          "output_type": "execute_result",
          "data": {
            "text/plain": [
              "1221.5901990069017"
            ]
          },
          "metadata": {
            "tags": []
          },
          "execution_count": 21
        }
      ]
    },
    {
      "cell_type": "code",
      "metadata": {
        "id": "xiIsFa1OcGDl",
        "colab_type": "code",
        "colab": {}
      },
      "source": [
        "y_pred = y_pred*scale\n",
        "y_test = y_test*scale"
      ],
      "execution_count": 0,
      "outputs": []
    },
    {
      "cell_type": "code",
      "metadata": {
        "id": "ioQv-Af3cGDs",
        "colab_type": "code",
        "colab": {},
        "outputId": "7c8ae174-aaa9-4f1c-e2c1-bb7bdcccf296"
      },
      "source": [
        "# Visualising the results\n",
        "plt.figure(figsize=(14,5))\n",
        "plt.plot(y_test, color = 'red', label = 'Real Google Stock Price')\n",
        "plt.plot(y_pred, color = 'blue', label = 'Predicted Google Stock Price')\n",
        "plt.title('Google Stock Price Prediction')\n",
        "plt.xlabel('Time')\n",
        "plt.ylabel('Google Stock Price')\n",
        "plt.legend()\n",
        "plt.show()"
      ],
      "execution_count": 0,
      "outputs": [
        {
          "output_type": "display_data",
          "data": {
            "image/png": "[encoded data removed]",
            "text/plain": [
              "<Figure size 1008x360 with 1 Axes>"
            ]
          },
          "metadata": {
            "tags": [],
            "needs_background": "light"
          }
        }
      ]
    }
  ]
}